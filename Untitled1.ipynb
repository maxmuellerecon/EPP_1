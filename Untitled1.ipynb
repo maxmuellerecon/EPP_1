{
 "cells": [
  {
   "cell_type": "code",
   "execution_count": 1,
   "id": "4a528852",
   "metadata": {},
   "outputs": [],
   "source": [
    "name = \"Peter\""
   ]
  },
  {
   "cell_type": "code",
   "execution_count": 2,
   "id": "a8992c02",
   "metadata": {},
   "outputs": [
    {
     "data": {
      "text/plain": [
       "'Peter'"
      ]
     },
     "execution_count": 2,
     "metadata": {},
     "output_type": "execute_result"
    }
   ],
   "source": [
    "name"
   ]
  },
  {
   "cell_type": "code",
   "execution_count": 3,
   "id": "540f110e",
   "metadata": {},
   "outputs": [],
   "source": [
    "xy = 'petyy'"
   ]
  },
  {
   "cell_type": "code",
   "execution_count": 4,
   "id": "6c3d5a61",
   "metadata": {},
   "outputs": [
    {
     "data": {
      "text/plain": [
       "'petyy'"
      ]
     },
     "execution_count": 4,
     "metadata": {},
     "output_type": "execute_result"
    }
   ],
   "source": [
    "xy"
   ]
  },
  {
   "cell_type": "code",
   "execution_count": 5,
   "id": "aa03db52",
   "metadata": {},
   "outputs": [
    {
     "name": "stdout",
     "output_type": "stream",
     "text": [
      "Hello petyy !\n"
     ]
    }
   ],
   "source": [
    "print('Hello', xy,'!')"
   ]
  },
  {
   "cell_type": "code",
   "execution_count": 6,
   "id": "55784972",
   "metadata": {},
   "outputs": [],
   "source": [
    "def say_hello(name):\n",
    "    print('Hello',name,'!')"
   ]
  },
  {
   "cell_type": "code",
   "execution_count": 7,
   "id": "337b619e",
   "metadata": {},
   "outputs": [
    {
     "name": "stdout",
     "output_type": "stream",
     "text": [
      "Hello Marta !\n"
     ]
    }
   ],
   "source": [
    "say_hello('Marta')"
   ]
  },
  {
   "cell_type": "code",
   "execution_count": 8,
   "id": "e6f1ccc8",
   "metadata": {},
   "outputs": [
    {
     "ename": "SyntaxError",
     "evalue": "invalid syntax (<ipython-input-8-36b5f4b1eec2>, line 1)",
     "output_type": "error",
     "traceback": [
      "\u001b[1;36m  File \u001b[1;32m\"<ipython-input-8-36b5f4b1eec2>\"\u001b[1;36m, line \u001b[1;32m1\u001b[0m\n\u001b[1;33m    def say_hello(name,car)\u001b[0m\n\u001b[1;37m                           ^\u001b[0m\n\u001b[1;31mSyntaxError\u001b[0m\u001b[1;31m:\u001b[0m invalid syntax\n"
     ]
    }
   ],
   "source": [
    "def say_hello(name,car)"
   ]
  },
  {
   "cell_type": "code",
   "execution_count": 11,
   "id": "c81da8c7",
   "metadata": {},
   "outputs": [
    {
     "name": "stdout",
     "output_type": "stream",
     "text": [
      "1\n",
      "2\n",
      "3\n",
      "4\n"
     ]
    }
   ],
   "source": [
    "for i in range(1,5):\n",
    "    print(i)"
   ]
  },
  {
   "cell_type": "code",
   "execution_count": 13,
   "id": "34716dbe",
   "metadata": {},
   "outputs": [
    {
     "name": "stdout",
     "output_type": "stream",
     "text": [
      "1\n",
      "2\n",
      "6\n",
      "24\n",
      "120\n"
     ]
    }
   ],
   "source": [
    "n=1;\n",
    "for i in range(1,5+1):\n",
    "    n=i*n;\n",
    "    print(n)"
   ]
  },
  {
   "cell_type": "code",
   "execution_count": null,
   "id": "a35b4bd8",
   "metadata": {},
   "outputs": [],
   "source": []
  }
 ],
 "metadata": {
  "kernelspec": {
   "display_name": "Python 3",
   "language": "python",
   "name": "python3"
  },
  "language_info": {
   "codemirror_mode": {
    "name": "ipython",
    "version": 3
   },
   "file_extension": ".py",
   "mimetype": "text/x-python",
   "name": "python",
   "nbconvert_exporter": "python",
   "pygments_lexer": "ipython3",
   "version": "3.8.8"
  }
 },
 "nbformat": 4,
 "nbformat_minor": 5
}
